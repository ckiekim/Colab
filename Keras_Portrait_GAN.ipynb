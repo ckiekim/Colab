{
  "nbformat": 4,
  "nbformat_minor": 0,
  "metadata": {
    "colab": {
      "name": "Keras_Portrait_GAN.ipynb",
      "provenance": [],
      "collapsed_sections": [],
      "authorship_tag": "ABX9TyNLmvmkJ5RTDJZa7IBdYf2s",
      "include_colab_link": true
    },
    "kernelspec": {
      "name": "python3",
      "display_name": "Python 3"
    }
  },
  "cells": [
    {
      "cell_type": "markdown",
      "metadata": {
        "id": "view-in-github",
        "colab_type": "text"
      },
      "source": [
        "<a href=\"https://colab.research.google.com/github/ckiekim/Colab/blob/main/Keras_Portrait_GAN.ipynb\" target=\"_parent\"><img src=\"https://colab.research.google.com/assets/colab-badge.svg\" alt=\"Open In Colab\"/></a>"
      ]
    },
    {
      "cell_type": "markdown",
      "metadata": {
        "id": "RMMrb2CYZjBy"
      },
      "source": [
        "# Edge -> Portrait 생성하는 GAN"
      ]
    },
    {
      "cell_type": "code",
      "metadata": {
        "id": "Zmf1ppnqZpMC"
      },
      "source": [
        "import numpy as np\r\n",
        "import tensorflow as tf"
      ],
      "execution_count": 1,
      "outputs": []
    },
    {
      "cell_type": "code",
      "metadata": {
        "id": "_uDIM6NHZ-VT"
      },
      "source": [
        "# 실행할 때마다 같은 결과를 출력하기 위한 seed 값 설정\r\n",
        "seed = 2021\r\n",
        "np.random.seed(seed)\r\n",
        "tf.random.set_seed(seed)"
      ],
      "execution_count": 2,
      "outputs": []
    },
    {
      "cell_type": "markdown",
      "metadata": {
        "id": "hW5dkqv4aYAP"
      },
      "source": [
        "### Data Generator"
      ]
    },
    {
      "cell_type": "code",
      "metadata": {
        "id": "hntfGkNWZ_fa"
      },
      "source": [
        "from skimage.io import imread\r\n",
        "from skimage.transform import resize\r\n",
        "from glob import glob\r\n",
        "import matplotlib.pyplot as plt\r\n",
        "import os"
      ],
      "execution_count": 3,
      "outputs": []
    },
    {
      "cell_type": "code",
      "metadata": {
        "id": "l9Uw4jJBafl3"
      },
      "source": [
        "class DataGenerator():\r\n",
        "    def __init__(self):\r\n",
        "        pass\r\n",
        "\r\n",
        "    def process(self, batch_path, is_train):\r\n",
        "        imgs_A, imgs_B = [], []\r\n",
        "\r\n",
        "        for img_path in batch_path:\r\n",
        "        img_A = imread(img_path, as_gray=True)\r\n",
        "        img_B = imread(os.path.join('edges2portrait/trainB', os.path.basename(img_path)), as_gray=True)\r\n",
        "\r\n",
        "        if is_train and np.random.random() < 0.5:\r\n",
        "            img_A = np.fliplr(img_A)\r\n",
        "            img_B = np.fliplr(img_B)\r\n",
        "\r\n",
        "        imgs_A.append(np.expand_dims(img_A, axis=-1))\r\n",
        "        imgs_B.append(np.expand_dims(img_B, axis=-1))\r\n",
        "\r\n",
        "        imgs_A = np.array(imgs_A) / 127.5 - 1.\r\n",
        "        imgs_B = np.array(imgs_B) / 127.5 - 1.\r\n",
        "\r\n",
        "        return imgs_A, imgs_B\r\n",
        "\r\n",
        "    def load_data(self, batch_size=1, is_train=True):\r\n",
        "        listA = glob('edges2portrait/trainA/*.jpg')\r\n",
        "\r\n",
        "        batch_path = np.random.choice(listA, size=batch_size)\r\n",
        "\r\n",
        "        imgs_A, imgs_B = self.process(batch_path, is_train)\r\n",
        "\r\n",
        "        return imgs_A, imgs_B\r\n",
        "\r\n",
        "    def load_batch(self, batch_size=1, is_train=True):\r\n",
        "        listA = glob('edges2portrait/trainA/*.jpg')\r\n",
        "\r\n",
        "        self.n_batches = int(len(listA) / batch_size)\r\n",
        "\r\n",
        "        for i in range(self.n_batches-1):\r\n",
        "        batch_path = listA[i*batch_size:(i+1)*batch_size]\r\n",
        "        \r\n",
        "        imgs_A, imgs_B = self.process(batch_path, is_train)\r\n",
        "\r\n",
        "        yield imgs_A, imgs_B\r\n"
      ],
      "execution_count": null,
      "outputs": []
    },
    {
      "cell_type": "markdown",
      "metadata": {
        "id": "SdvHzqvUcO0J"
      },
      "source": [
        ""
      ]
    }
  ]
}