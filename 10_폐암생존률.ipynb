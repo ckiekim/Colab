{
  "nbformat": 4,
  "nbformat_minor": 0,
  "metadata": {
    "colab": {
      "name": "10.폐암생존률.ipynb",
      "provenance": [],
      "collapsed_sections": [],
      "authorship_tag": "ABX9TyOHn184C+BtJcSNNVo/WK07",
      "include_colab_link": true
    },
    "kernelspec": {
      "name": "python3",
      "display_name": "Python 3"
    }
  },
  "cells": [
    {
      "cell_type": "markdown",
      "metadata": {
        "id": "view-in-github",
        "colab_type": "text"
      },
      "source": [
        "<a href=\"https://colab.research.google.com/github/ckiekim/Colab/blob/main/10_%ED%8F%90%EC%95%94%EC%83%9D%EC%A1%B4%EB%A5%A0.ipynb\" target=\"_parent\"><img src=\"https://colab.research.google.com/assets/colab-badge.svg\" alt=\"Open In Colab\"/></a>"
      ]
    },
    {
      "cell_type": "markdown",
      "metadata": {
        "id": "0iqlRRKtYxGI"
      },
      "source": [
        "# 폐암 수술 환자의 생존율 데이터 분석"
      ]
    },
    {
      "cell_type": "code",
      "metadata": {
        "colab": {
          "base_uri": "https://localhost:8080/"
        },
        "id": "KknQy8smXfqW",
        "outputId": "de2993ac-20d0-45bf-fcc3-aa1fe9528d67"
      },
      "source": [
        "!unzip dataset.zip"
      ],
      "execution_count": 1,
      "outputs": [
        {
          "output_type": "stream",
          "text": [
            "Archive:  dataset.zip\n",
            "  inflating: housing.csv             \n",
            "  inflating: iris.csv                \n",
            "  inflating: pima-indians-diabetes.csv  \n",
            "  inflating: sonar.csv               \n",
            "  inflating: ThoraricSurgery.csv     \n",
            "  inflating: wine.csv                \n"
          ],
          "name": "stdout"
        }
      ]
    },
    {
      "cell_type": "code",
      "metadata": {
        "colab": {
          "base_uri": "https://localhost:8080/",
          "height": 35
        },
        "id": "ET53WLLAYsiG",
        "outputId": "9ce069ba-25a7-45eb-a02d-a19b8d3640e8"
      },
      "source": [
        "# 필요한 라이브러리\r\n",
        "import numpy as np\r\n",
        "import tensorflow as tf\r\n",
        "tf.__version__"
      ],
      "execution_count": 2,
      "outputs": [
        {
          "output_type": "execute_result",
          "data": {
            "application/vnd.google.colaboratory.intrinsic+json": {
              "type": "string"
            },
            "text/plain": [
              "'2.4.1'"
            ]
          },
          "metadata": {
            "tags": []
          },
          "execution_count": 2
        }
      ]
    },
    {
      "cell_type": "code",
      "metadata": {
        "id": "IKObJ21iY6Zs"
      },
      "source": [
        "# 실행할 때마다 같은 결과를 출력하기 위한 seed 값 설정\r\n",
        "seed = 2021\r\n",
        "np.random.seed(seed)\r\n",
        "tf.random.set_seed(seed)"
      ],
      "execution_count": 3,
      "outputs": []
    },
    {
      "cell_type": "code",
      "metadata": {
        "colab": {
          "base_uri": "https://localhost:8080/"
        },
        "id": "vAAtvxPtZCoF",
        "outputId": "9e3c2d9b-e132-4910-bd12-502f6c119fe6"
      },
      "source": [
        "# 준비된 수술 환자 데이터를 불러들임\r\n",
        "Data_set = np.loadtxt(\"./dataset/ThoraricSurgery.csv\", delimiter=\",\")\r\n",
        "Data_set[:3, :]"
      ],
      "execution_count": 4,
      "outputs": [
        {
          "output_type": "execute_result",
          "data": {
            "text/plain": [
              "array([[293.  ,   1.  ,   3.8 ,   2.8 ,   0.  ,   0.  ,   0.  ,   0.  ,\n",
              "          0.  ,   0.  ,  12.  ,   0.  ,   0.  ,   0.  ,   1.  ,   0.  ,\n",
              "         62.  ,   0.  ],\n",
              "       [  1.  ,   2.  ,   2.88,   2.16,   1.  ,   0.  ,   0.  ,   0.  ,\n",
              "          1.  ,   1.  ,  14.  ,   0.  ,   0.  ,   0.  ,   1.  ,   0.  ,\n",
              "         60.  ,   0.  ],\n",
              "       [  8.  ,   2.  ,   3.19,   2.5 ,   1.  ,   0.  ,   0.  ,   0.  ,\n",
              "          1.  ,   0.  ,  11.  ,   0.  ,   0.  ,   1.  ,   1.  ,   0.  ,\n",
              "         66.  ,   1.  ]])"
            ]
          },
          "metadata": {
            "tags": []
          },
          "execution_count": 4
        }
      ]
    },
    {
      "cell_type": "code",
      "metadata": {
        "colab": {
          "base_uri": "https://localhost:8080/"
        },
        "id": "kVp73dF1ZKH8",
        "outputId": "4b9ce2df-2d65-4ecc-89a2-1ead18c3667f"
      },
      "source": [
        "# 환자의 기록과 수술 결과를 X와 Y로 구분하여 저장\r\n",
        "X = Data_set[:, :-1]\r\n",
        "Y = Data_set[:, -1]\r\n",
        "X.shape, Y.shape"
      ],
      "execution_count": 5,
      "outputs": [
        {
          "output_type": "execute_result",
          "data": {
            "text/plain": [
              "((470, 17), (470,))"
            ]
          },
          "metadata": {
            "tags": []
          },
          "execution_count": 5
        }
      ]
    },
    {
      "cell_type": "code",
      "metadata": {
        "id": "sQkzhIzfZaxF"
      },
      "source": [
        "from tensorflow.keras.models import Sequential\r\n",
        "from tensorflow.keras.layers import Dense"
      ],
      "execution_count": 6,
      "outputs": []
    },
    {
      "cell_type": "code",
      "metadata": {
        "colab": {
          "base_uri": "https://localhost:8080/"
        },
        "id": "FlfBGi-7ZlmN",
        "outputId": "9f2976d9-6dc5-4559-ee1b-5f405c5500e2"
      },
      "source": [
        "# 딥러닝 모델 설정\r\n",
        "model = Sequential([\r\n",
        "    Dense(30, input_shape=(17,), activation='relu'),\r\n",
        "    Dense(1, activation='sigmoid')\r\n",
        "])\r\n",
        "model.summary()"
      ],
      "execution_count": 7,
      "outputs": [
        {
          "output_type": "stream",
          "text": [
            "Model: \"sequential\"\n",
            "_________________________________________________________________\n",
            "Layer (type)                 Output Shape              Param #   \n",
            "=================================================================\n",
            "dense (Dense)                (None, 30)                540       \n",
            "_________________________________________________________________\n",
            "dense_1 (Dense)              (None, 1)                 31        \n",
            "=================================================================\n",
            "Total params: 571\n",
            "Trainable params: 571\n",
            "Non-trainable params: 0\n",
            "_________________________________________________________________\n"
          ],
          "name": "stdout"
        }
      ]
    },
    {
      "cell_type": "code",
      "metadata": {
        "colab": {
          "base_uri": "https://localhost:8080/"
        },
        "id": "H8hTjJX-ZtrN",
        "outputId": "a48cfaad-67cb-49c1-87d9-aea81e4417c6"
      },
      "source": [
        "from tensorflow.keras.layers import Dense, Input\r\n",
        "model = Sequential()\r\n",
        "model.add(Input(17,))\r\n",
        "model.add(Dense(30, activation='relu'))\r\n",
        "model.add(Dense(1, activation='sigmoid'))\r\n",
        "model.summary()"
      ],
      "execution_count": 8,
      "outputs": [
        {
          "output_type": "stream",
          "text": [
            "Model: \"sequential_1\"\n",
            "_________________________________________________________________\n",
            "Layer (type)                 Output Shape              Param #   \n",
            "=================================================================\n",
            "dense_2 (Dense)              (None, 30)                540       \n",
            "_________________________________________________________________\n",
            "dense_3 (Dense)              (None, 1)                 31        \n",
            "=================================================================\n",
            "Total params: 571\n",
            "Trainable params: 571\n",
            "Non-trainable params: 0\n",
            "_________________________________________________________________\n"
          ],
          "name": "stdout"
        }
      ]
    },
    {
      "cell_type": "code",
      "metadata": {
        "id": "EQbnLOfxaLw2"
      },
      "source": [
        "# 딥러닝 환경 설정 (오차함수, 최적화함수)\r\n",
        "model.compile(loss='binary_crossentropy', \r\n",
        "              optimizer='adam', metrics=['accuracy'])"
      ],
      "execution_count": 9,
      "outputs": []
    },
    {
      "cell_type": "code",
      "metadata": {
        "colab": {
          "base_uri": "https://localhost:8080/"
        },
        "id": "8JFvO9t2aZnF",
        "outputId": "c97da6a3-1a2d-48a3-f77d-73791a5c9984"
      },
      "source": [
        "# 딥러닝 학습\r\n",
        "model.fit(X, Y, epochs=20, batch_size=10)"
      ],
      "execution_count": 10,
      "outputs": [
        {
          "output_type": "stream",
          "text": [
            "Epoch 1/20\n",
            "47/47 [==============================] - 1s 1ms/step - loss: 20.9595 - accuracy: 0.1933\n",
            "Epoch 2/20\n",
            "47/47 [==============================] - 0s 1ms/step - loss: 2.3194 - accuracy: 0.7010\n",
            "Epoch 3/20\n",
            "47/47 [==============================] - 0s 1ms/step - loss: 1.7217 - accuracy: 0.7258\n",
            "Epoch 4/20\n",
            "47/47 [==============================] - 0s 992us/step - loss: 0.9864 - accuracy: 0.7499\n",
            "Epoch 5/20\n",
            "47/47 [==============================] - 0s 1ms/step - loss: 0.7577 - accuracy: 0.7580\n",
            "Epoch 6/20\n",
            "47/47 [==============================] - 0s 1ms/step - loss: 0.6649 - accuracy: 0.7397\n",
            "Epoch 7/20\n",
            "47/47 [==============================] - 0s 1ms/step - loss: 0.4950 - accuracy: 0.8341\n",
            "Epoch 8/20\n",
            "47/47 [==============================] - 0s 1ms/step - loss: 0.5852 - accuracy: 0.8227\n",
            "Epoch 9/20\n",
            "47/47 [==============================] - 0s 1ms/step - loss: 0.4460 - accuracy: 0.8577\n",
            "Epoch 10/20\n",
            "47/47 [==============================] - 0s 1ms/step - loss: 0.5163 - accuracy: 0.8290\n",
            "Epoch 11/20\n",
            "47/47 [==============================] - 0s 1ms/step - loss: 0.5083 - accuracy: 0.8355\n",
            "Epoch 12/20\n",
            "47/47 [==============================] - 0s 1ms/step - loss: 0.4696 - accuracy: 0.8382\n",
            "Epoch 13/20\n",
            "47/47 [==============================] - 0s 1ms/step - loss: 0.4151 - accuracy: 0.8613\n",
            "Epoch 14/20\n",
            "47/47 [==============================] - 0s 1ms/step - loss: 0.4393 - accuracy: 0.8585\n",
            "Epoch 15/20\n",
            "47/47 [==============================] - 0s 1ms/step - loss: 0.5281 - accuracy: 0.8443\n",
            "Epoch 16/20\n",
            "47/47 [==============================] - 0s 1ms/step - loss: 0.5515 - accuracy: 0.7992\n",
            "Epoch 17/20\n",
            "47/47 [==============================] - 0s 1ms/step - loss: 0.4031 - accuracy: 0.8722\n",
            "Epoch 18/20\n",
            "47/47 [==============================] - 0s 1ms/step - loss: 0.4579 - accuracy: 0.8395\n",
            "Epoch 19/20\n",
            "47/47 [==============================] - 0s 1ms/step - loss: 0.4541 - accuracy: 0.8464\n",
            "Epoch 20/20\n",
            "47/47 [==============================] - 0s 1ms/step - loss: 0.4577 - accuracy: 0.8521\n"
          ],
          "name": "stdout"
        },
        {
          "output_type": "execute_result",
          "data": {
            "text/plain": [
              "<tensorflow.python.keras.callbacks.History at 0x7f0dfa83c470>"
            ]
          },
          "metadata": {
            "tags": []
          },
          "execution_count": 10
        }
      ]
    },
    {
      "cell_type": "code",
      "metadata": {
        "colab": {
          "base_uri": "https://localhost:8080/"
        },
        "id": "VcAgqd0aahe-",
        "outputId": "49702b36-567b-44fb-eca1-812baad1c974"
      },
      "source": [
        "# 결과 출력\r\n",
        "# evaluate() returns the loss value & metrics values for the model \r\n",
        "acc = model.evaluate(X, Y, verbose=2)\r\n",
        "print(f\"Accuracy: {acc[1]:.4f}\")"
      ],
      "execution_count": 16,
      "outputs": [
        {
          "output_type": "stream",
          "text": [
            "15/15 - 0s - loss: 0.4140 - accuracy: 0.8511\n",
            "Accuracy: 0.8511\n"
          ],
          "name": "stdout"
        }
      ]
    },
    {
      "cell_type": "code",
      "metadata": {
        "id": "duJorJ9Qbbhx"
      },
      "source": [
        ""
      ],
      "execution_count": null,
      "outputs": []
    }
  ]
}