{
  "nbformat": 4,
  "nbformat_minor": 0,
  "metadata": {
    "colab": {
      "name": "02_CPU-vs-GPU.ipynb",
      "provenance": [],
      "collapsed_sections": [],
      "authorship_tag": "ABX9TyNQDgWHmnda5FOhyAn3Bw14",
      "include_colab_link": true
    },
    "kernelspec": {
      "name": "python3",
      "display_name": "Python 3"
    },
    "accelerator": "GPU"
  },
  "cells": [
    {
      "cell_type": "markdown",
      "metadata": {
        "id": "view-in-github",
        "colab_type": "text"
      },
      "source": [
        "<a href=\"https://colab.research.google.com/github/ckiekim/Colab/blob/main/02_CPU_vs_GPU.ipynb\" target=\"_parent\"><img src=\"https://colab.research.google.com/assets/colab-badge.svg\" alt=\"Open In Colab\"/></a>"
      ]
    },
    {
      "cell_type": "code",
      "metadata": {
        "id": "NR-wpIre0Oqk"
      },
      "source": [
        "import numpy as np\r\n",
        "import tensorflow as tf\r\n",
        "from tensorflow import keras\r\n",
        "from keras.datasets import mnist\r\n",
        "from keras.models import Sequential\r\n",
        "from keras.layers import Dense, Dropout, Flatten, Conv2D, MaxPooling2D\r\n",
        "from keras.callbacks import ModelCheckpoint, EarlyStopping\r\n",
        "\r\n",
        "import os\r\n",
        "import matplotlib.pyplot as plt\r\n",
        "%matplotlib inline"
      ],
      "execution_count": 1,
      "outputs": []
    },
    {
      "cell_type": "code",
      "metadata": {
        "id": "cbe0Fcns0aL5"
      },
      "source": [
        "# seed 값 설정\r\n",
        "seed = 2021\r\n",
        "np.random.seed(seed)\r\n",
        "tf.random.set_seed(seed)"
      ],
      "execution_count": 2,
      "outputs": []
    },
    {
      "cell_type": "code",
      "metadata": {
        "colab": {
          "base_uri": "https://localhost:8080/"
        },
        "id": "dkuvqZCy0a85",
        "outputId": "4b15c6ef-fa64-4877-932e-f66521cbba2a"
      },
      "source": [
        "# 데이터 불러오기\r\n",
        "(X_train, Y_train), (X_test, Y_test) = mnist.load_data()\r\n",
        "X_train = X_train.reshape(-1, 28, 28, 1).astype('float32') / 255\r\n",
        "X_test = X_test.reshape(-1, 28, 28, 1).astype('float32') / 255\r\n",
        "Y_train = keras.utils.to_categorical(Y_train)\r\n",
        "Y_test = keras.utils.to_categorical(Y_test)"
      ],
      "execution_count": 3,
      "outputs": [
        {
          "output_type": "stream",
          "text": [
            "Downloading data from https://storage.googleapis.com/tensorflow/tf-keras-datasets/mnist.npz\n",
            "11493376/11490434 [==============================] - 0s 0us/step\n"
          ],
          "name": "stdout"
        }
      ]
    },
    {
      "cell_type": "code",
      "metadata": {
        "colab": {
          "base_uri": "https://localhost:8080/"
        },
        "id": "jfJ1BIDu0p95",
        "outputId": "89ac2e5a-d4f9-45f3-95ee-2f7668524bb4"
      },
      "source": [
        "X_train.shape, X_test.shape"
      ],
      "execution_count": 4,
      "outputs": [
        {
          "output_type": "execute_result",
          "data": {
            "text/plain": [
              "((60000, 28, 28, 1), (10000, 28, 28, 1))"
            ]
          },
          "metadata": {
            "tags": []
          },
          "execution_count": 4
        }
      ]
    },
    {
      "cell_type": "code",
      "metadata": {
        "colab": {
          "base_uri": "https://localhost:8080/"
        },
        "id": "KpXZvhbn0sMg",
        "outputId": "b62662e3-bf95-4b44-c458-a241c39e5bba"
      },
      "source": [
        "# 컨볼루션 신경망 설정\r\n",
        "model = Sequential([\r\n",
        "    Conv2D(32, kernel_size=(3, 3), input_shape=(28, 28, 1), \r\n",
        "           activation='relu'),\r\n",
        "    Conv2D(64, (3, 3), activation='relu'),\r\n",
        "    MaxPooling2D(pool_size=2),\r\n",
        "    Dropout(0.25),\r\n",
        "    Flatten(),\r\n",
        "    Dense(128, activation='relu'),\r\n",
        "    Dropout(0.5),\r\n",
        "    Dense(10, activation='softmax')\r\n",
        "])\r\n",
        "model.summary()"
      ],
      "execution_count": 5,
      "outputs": [
        {
          "output_type": "stream",
          "text": [
            "Model: \"sequential\"\n",
            "_________________________________________________________________\n",
            "Layer (type)                 Output Shape              Param #   \n",
            "=================================================================\n",
            "conv2d (Conv2D)              (None, 26, 26, 32)        320       \n",
            "_________________________________________________________________\n",
            "conv2d_1 (Conv2D)            (None, 24, 24, 64)        18496     \n",
            "_________________________________________________________________\n",
            "max_pooling2d (MaxPooling2D) (None, 12, 12, 64)        0         \n",
            "_________________________________________________________________\n",
            "dropout (Dropout)            (None, 12, 12, 64)        0         \n",
            "_________________________________________________________________\n",
            "flatten (Flatten)            (None, 9216)              0         \n",
            "_________________________________________________________________\n",
            "dense (Dense)                (None, 128)               1179776   \n",
            "_________________________________________________________________\n",
            "dropout_1 (Dropout)          (None, 128)               0         \n",
            "_________________________________________________________________\n",
            "dense_1 (Dense)              (None, 10)                1290      \n",
            "=================================================================\n",
            "Total params: 1,199,882\n",
            "Trainable params: 1,199,882\n",
            "Non-trainable params: 0\n",
            "_________________________________________________________________\n"
          ],
          "name": "stdout"
        }
      ]
    },
    {
      "cell_type": "code",
      "metadata": {
        "id": "UD82H1-f03b0"
      },
      "source": [
        "model.compile(loss='categorical_crossentropy',\r\n",
        "              optimizer='adam',\r\n",
        "              metrics=['accuracy'])"
      ],
      "execution_count": 6,
      "outputs": []
    },
    {
      "cell_type": "code",
      "metadata": {
        "id": "_3osRNBD04eQ"
      },
      "source": [
        "# 모델 최적화 설정\r\n",
        "MODEL_DIR = './model/'\r\n",
        "if not os.path.exists(MODEL_DIR):\r\n",
        "    os.mkdir(MODEL_DIR)"
      ],
      "execution_count": 7,
      "outputs": []
    },
    {
      "cell_type": "code",
      "metadata": {
        "colab": {
          "base_uri": "https://localhost:8080/"
        },
        "id": "zI9BHg3X1JZ5",
        "outputId": "247de262-8fe3-42b4-9918-d7a1de1ba470"
      },
      "source": [
        "!ls -l"
      ],
      "execution_count": 8,
      "outputs": [
        {
          "output_type": "stream",
          "text": [
            "total 8\n",
            "drwxr-xr-x 2 root root 4096 Feb  5 02:36 model\n",
            "drwxr-xr-x 1 root root 4096 Feb  1 17:27 sample_data\n"
          ],
          "name": "stdout"
        }
      ]
    },
    {
      "cell_type": "code",
      "metadata": {
        "id": "5ZnapJ5W1KpJ"
      },
      "source": [
        "modelpath = MODEL_DIR + \"mnist-cnn-{epoch:02d}-{val_loss:.4f}.hdf5\"\r\n",
        "checkpointer = ModelCheckpoint(filepath=modelpath, monitor='val_loss', \r\n",
        "                               verbose=1, save_best_only=True)\r\n",
        "early_stopping_callback = EarlyStopping(monitor='val_loss', patience=10)"
      ],
      "execution_count": 9,
      "outputs": []
    },
    {
      "cell_type": "code",
      "metadata": {
        "colab": {
          "base_uri": "https://localhost:8080/"
        },
        "id": "3sInRe9j1T1Q",
        "outputId": "dffa3dff-558a-4975-d0ee-8b2fabac9b1c"
      },
      "source": [
        "# 모델의 실행\r\n",
        "history = model.fit(X_train, Y_train, validation_split=0.2, epochs=30,\r\n",
        "                    batch_size=200, #epochs=5, verbose=2, \r\n",
        "                    callbacks=[early_stopping_callback, checkpointer])"
      ],
      "execution_count": 10,
      "outputs": [
        {
          "output_type": "stream",
          "text": [
            "Epoch 1/30\n",
            "240/240 [==============================] - 10s 12ms/step - loss: 0.6063 - accuracy: 0.8089 - val_loss: 0.0718 - val_accuracy: 0.9794\n",
            "\n",
            "Epoch 00001: val_loss improved from inf to 0.07185, saving model to ./model/mnist-cnn-01-0.0718.hdf5\n",
            "Epoch 2/30\n",
            "240/240 [==============================] - 3s 11ms/step - loss: 0.1043 - accuracy: 0.9690 - val_loss: 0.0528 - val_accuracy: 0.9850\n",
            "\n",
            "Epoch 00002: val_loss improved from 0.07185 to 0.05276, saving model to ./model/mnist-cnn-02-0.0528.hdf5\n",
            "Epoch 3/30\n",
            "240/240 [==============================] - 3s 11ms/step - loss: 0.0662 - accuracy: 0.9802 - val_loss: 0.0447 - val_accuracy: 0.9869\n",
            "\n",
            "Epoch 00003: val_loss improved from 0.05276 to 0.04469, saving model to ./model/mnist-cnn-03-0.0447.hdf5\n",
            "Epoch 4/30\n",
            "240/240 [==============================] - 3s 11ms/step - loss: 0.0592 - accuracy: 0.9811 - val_loss: 0.0418 - val_accuracy: 0.9887\n",
            "\n",
            "Epoch 00004: val_loss improved from 0.04469 to 0.04183, saving model to ./model/mnist-cnn-04-0.0418.hdf5\n",
            "Epoch 5/30\n",
            "240/240 [==============================] - 3s 11ms/step - loss: 0.0454 - accuracy: 0.9860 - val_loss: 0.0389 - val_accuracy: 0.9891\n",
            "\n",
            "Epoch 00005: val_loss improved from 0.04183 to 0.03888, saving model to ./model/mnist-cnn-05-0.0389.hdf5\n",
            "Epoch 6/30\n",
            "240/240 [==============================] - 3s 11ms/step - loss: 0.0414 - accuracy: 0.9865 - val_loss: 0.0409 - val_accuracy: 0.9885\n",
            "\n",
            "Epoch 00006: val_loss did not improve from 0.03888\n",
            "Epoch 7/30\n",
            "240/240 [==============================] - 3s 11ms/step - loss: 0.0357 - accuracy: 0.9891 - val_loss: 0.0367 - val_accuracy: 0.9896\n",
            "\n",
            "Epoch 00007: val_loss improved from 0.03888 to 0.03669, saving model to ./model/mnist-cnn-07-0.0367.hdf5\n",
            "Epoch 8/30\n",
            "240/240 [==============================] - 3s 11ms/step - loss: 0.0325 - accuracy: 0.9900 - val_loss: 0.0369 - val_accuracy: 0.9894\n",
            "\n",
            "Epoch 00008: val_loss did not improve from 0.03669\n",
            "Epoch 9/30\n",
            "240/240 [==============================] - 3s 11ms/step - loss: 0.0287 - accuracy: 0.9905 - val_loss: 0.0395 - val_accuracy: 0.9894\n",
            "\n",
            "Epoch 00009: val_loss did not improve from 0.03669\n",
            "Epoch 10/30\n",
            "240/240 [==============================] - 3s 11ms/step - loss: 0.0273 - accuracy: 0.9908 - val_loss: 0.0402 - val_accuracy: 0.9905\n",
            "\n",
            "Epoch 00010: val_loss did not improve from 0.03669\n",
            "Epoch 11/30\n",
            "240/240 [==============================] - 3s 11ms/step - loss: 0.0238 - accuracy: 0.9923 - val_loss: 0.0396 - val_accuracy: 0.9893\n",
            "\n",
            "Epoch 00011: val_loss did not improve from 0.03669\n",
            "Epoch 12/30\n",
            "240/240 [==============================] - 3s 11ms/step - loss: 0.0247 - accuracy: 0.9918 - val_loss: 0.0403 - val_accuracy: 0.9905\n",
            "\n",
            "Epoch 00012: val_loss did not improve from 0.03669\n",
            "Epoch 13/30\n",
            "240/240 [==============================] - 3s 11ms/step - loss: 0.0206 - accuracy: 0.9933 - val_loss: 0.0380 - val_accuracy: 0.9898\n",
            "\n",
            "Epoch 00013: val_loss did not improve from 0.03669\n",
            "Epoch 14/30\n",
            "240/240 [==============================] - 3s 11ms/step - loss: 0.0208 - accuracy: 0.9927 - val_loss: 0.0401 - val_accuracy: 0.9911\n",
            "\n",
            "Epoch 00014: val_loss did not improve from 0.03669\n",
            "Epoch 15/30\n",
            "240/240 [==============================] - 3s 11ms/step - loss: 0.0184 - accuracy: 0.9943 - val_loss: 0.0424 - val_accuracy: 0.9902\n",
            "\n",
            "Epoch 00015: val_loss did not improve from 0.03669\n",
            "Epoch 16/30\n",
            "240/240 [==============================] - 3s 11ms/step - loss: 0.0195 - accuracy: 0.9938 - val_loss: 0.0406 - val_accuracy: 0.9901\n",
            "\n",
            "Epoch 00016: val_loss did not improve from 0.03669\n",
            "Epoch 17/30\n",
            "240/240 [==============================] - 3s 11ms/step - loss: 0.0162 - accuracy: 0.9944 - val_loss: 0.0439 - val_accuracy: 0.9901\n",
            "\n",
            "Epoch 00017: val_loss did not improve from 0.03669\n"
          ],
          "name": "stdout"
        }
      ]
    },
    {
      "cell_type": "code",
      "metadata": {
        "colab": {
          "base_uri": "https://localhost:8080/"
        },
        "id": "jygtw6vp1YeT",
        "outputId": "14a54ddb-e7ac-4cbb-cdb4-50f292dd3f5a"
      },
      "source": [
        "!ls model"
      ],
      "execution_count": 11,
      "outputs": [
        {
          "output_type": "stream",
          "text": [
            "mnist-cnn-01-0.0718.hdf5  mnist-cnn-03-0.0447.hdf5  mnist-cnn-05-0.0389.hdf5\n",
            "mnist-cnn-02-0.0528.hdf5  mnist-cnn-04-0.0418.hdf5  mnist-cnn-07-0.0367.hdf5\n"
          ],
          "name": "stdout"
        }
      ]
    },
    {
      "cell_type": "code",
      "metadata": {
        "id": "qZDWizT7Avw1"
      },
      "source": [
        "from keras.models import load_model\r\n",
        "del model\r\n",
        "model = load_model('model/mnist-cnn-07-0.0367.hdf5')"
      ],
      "execution_count": 14,
      "outputs": []
    },
    {
      "cell_type": "code",
      "metadata": {
        "colab": {
          "base_uri": "https://localhost:8080/"
        },
        "id": "DXBdkIOWA76U",
        "outputId": "5c436fd6-c5d5-41f5-8bee-e9a470058a3c"
      },
      "source": [
        "# 테스트 정확도 출력 \r\n",
        "acc = model.evaluate(X_test, Y_test, verbose=0)[1]\r\n",
        "print(f\"Test Accuracy:{acc:.4f}\")"
      ],
      "execution_count": 15,
      "outputs": [
        {
          "output_type": "stream",
          "text": [
            "Test Accuracy:0.9915\n"
          ],
          "name": "stdout"
        }
      ]
    },
    {
      "cell_type": "code",
      "metadata": {
        "id": "mfihh7vVBZTM"
      },
      "source": [
        "# 검증셋의 오차\r\n",
        "y_vloss = history.history['val_loss']\r\n",
        "\r\n",
        "# 학습셋의 오차\r\n",
        "y_loss = history.history['loss']"
      ],
      "execution_count": 16,
      "outputs": []
    },
    {
      "cell_type": "code",
      "metadata": {
        "colab": {
          "base_uri": "https://localhost:8080/",
          "height": 388
        },
        "id": "AbvCfHfnCt71",
        "outputId": "f7b140dc-9493-4fc4-8b52-76effd3bc6a1"
      },
      "source": [
        "# 그래프로 표현\r\n",
        "x_len = np.arange(1, len(y_loss)+1)\r\n",
        "plt.figure(figsize=(8,6))\r\n",
        "plt.plot(x_len, y_vloss, marker='.', c=\"red\", label='Validationset_loss')\r\n",
        "plt.plot(x_len, y_loss, marker='.', c=\"blue\", label='Trainset_loss')\r\n",
        "\r\n",
        "# 그래프에 그리드를 주고 레이블을 표시\r\n",
        "plt.legend(loc='upper right')\r\n",
        "#plt.axis([0, 20, 0, 0.35])\r\n",
        "plt.grid()\r\n",
        "plt.xlabel('epoch')\r\n",
        "plt.ylabel('loss')\r\n",
        "plt.show()"
      ],
      "execution_count": 17,
      "outputs": [
        {
          "output_type": "display_data",
          "data": {
            "image/png": "[encoded data removed]",
            "text/plain": [
              "<Figure size 576x432 with 1 Axes>"
            ]
          },
          "metadata": {
            "tags": [],
            "needs_background": "light"
          }
        }
      ]
    }
  ]
}