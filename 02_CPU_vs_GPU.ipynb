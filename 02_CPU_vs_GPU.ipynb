{
  "nbformat": 4,
  "nbformat_minor": 0,
  "metadata": {
    "colab": {
      "name": "02_CPU-vs-GPU.ipynb",
      "provenance": [],
      "collapsed_sections": [],
      "authorship_tag": "ABX9TyMBjj7bcK9ToInDiYEFby1G",
      "include_colab_link": true
    },
    "kernelspec": {
      "name": "python3",
      "display_name": "Python 3"
    },
    "accelerator": "GPU"
  },
  "cells": [
    {
      "cell_type": "markdown",
      "metadata": {
        "id": "view-in-github",
        "colab_type": "text"
      },
      "source": [
        "<a href=\"https://colab.research.google.com/github/ckiekim/Colab/blob/main/02_CPU_vs_GPU.ipynb\" target=\"_parent\"><img src=\"https://colab.research.google.com/assets/colab-badge.svg\" alt=\"Open In Colab\"/></a>"
      ]
    },
    {
      "cell_type": "code",
      "metadata": {
        "id": "NR-wpIre0Oqk"
      },
      "source": [
        "import numpy as np\r\n",
        "import tensorflow as tf\r\n",
        "from tensorflow import keras\r\n",
        "from keras.datasets import mnist\r\n",
        "from keras.models import Sequential\r\n",
        "from keras.layers import Dense, Dropout, Flatten, Conv2D, MaxPooling2D\r\n",
        "from keras.callbacks import ModelCheckpoint, EarlyStopping\r\n",
        "\r\n",
        "import os\r\n",
        "import matplotlib.pyplot as plt\r\n",
        "%matplotlib inline"
      ],
      "execution_count": 1,
      "outputs": []
    },
    {
      "cell_type": "code",
      "metadata": {
        "id": "cbe0Fcns0aL5"
      },
      "source": [
        "# seed 값 설정\r\n",
        "seed = 2021\r\n",
        "np.random.seed(seed)\r\n",
        "tf.random.set_seed(seed)"
      ],
      "execution_count": 2,
      "outputs": []
    },
    {
      "cell_type": "code",
      "metadata": {
        "colab": {
          "base_uri": "https://localhost:8080/"
        },
        "id": "dkuvqZCy0a85",
        "outputId": "0bf3e1d0-aa3f-4592-8575-e2ad9a329d48"
      },
      "source": [
        "# 데이터 불러오기\r\n",
        "(X_train, Y_train), (X_test, Y_test) = mnist.load_data()\r\n",
        "X_train = X_train.reshape(-1, 28, 28, 1).astype('float32') / 255\r\n",
        "X_test = X_test.reshape(-1, 28, 28, 1).astype('float32') / 255\r\n",
        "Y_train = keras.utils.to_categorical(Y_train)\r\n",
        "Y_test = keras.utils.to_categorical(Y_test)"
      ],
      "execution_count": 3,
      "outputs": [
        {
          "output_type": "stream",
          "text": [
            "Downloading data from https://storage.googleapis.com/tensorflow/tf-keras-datasets/mnist.npz\n",
            "11493376/11490434 [==============================] - 0s 0us/step\n"
          ],
          "name": "stdout"
        }
      ]
    },
    {
      "cell_type": "code",
      "metadata": {
        "colab": {
          "base_uri": "https://localhost:8080/"
        },
        "id": "jfJ1BIDu0p95",
        "outputId": "4b8f3405-947d-4441-96a7-550a9b1fbc4c"
      },
      "source": [
        "X_train.shape, X_test.shape"
      ],
      "execution_count": 4,
      "outputs": [
        {
          "output_type": "execute_result",
          "data": {
            "text/plain": [
              "((60000, 28, 28, 1), (10000, 28, 28, 1))"
            ]
          },
          "metadata": {
            "tags": []
          },
          "execution_count": 4
        }
      ]
    },
    {
      "cell_type": "code",
      "metadata": {
        "colab": {
          "base_uri": "https://localhost:8080/"
        },
        "id": "KpXZvhbn0sMg",
        "outputId": "06251f71-540b-4be1-e1b9-8fe0da1bfde4"
      },
      "source": [
        "# 컨볼루션 신경망 설정\r\n",
        "model = Sequential([\r\n",
        "    Conv2D(32, kernel_size=(3, 3), input_shape=(28, 28, 1), \r\n",
        "           activation='relu'),\r\n",
        "    Conv2D(64, (3, 3), activation='relu'),\r\n",
        "    MaxPooling2D(pool_size=2),\r\n",
        "    Dropout(0.25),\r\n",
        "    Flatten(),\r\n",
        "    Dense(128, activation='relu'),\r\n",
        "    Dropout(0.5),\r\n",
        "    Dense(10, activation='softmax')\r\n",
        "])\r\n",
        "model.summary()"
      ],
      "execution_count": 5,
      "outputs": [
        {
          "output_type": "stream",
          "text": [
            "Model: \"sequential\"\n",
            "_________________________________________________________________\n",
            "Layer (type)                 Output Shape              Param #   \n",
            "=================================================================\n",
            "conv2d (Conv2D)              (None, 26, 26, 32)        320       \n",
            "_________________________________________________________________\n",
            "conv2d_1 (Conv2D)            (None, 24, 24, 64)        18496     \n",
            "_________________________________________________________________\n",
            "max_pooling2d (MaxPooling2D) (None, 12, 12, 64)        0         \n",
            "_________________________________________________________________\n",
            "dropout (Dropout)            (None, 12, 12, 64)        0         \n",
            "_________________________________________________________________\n",
            "flatten (Flatten)            (None, 9216)              0         \n",
            "_________________________________________________________________\n",
            "dense (Dense)                (None, 128)               1179776   \n",
            "_________________________________________________________________\n",
            "dropout_1 (Dropout)          (None, 128)               0         \n",
            "_________________________________________________________________\n",
            "dense_1 (Dense)              (None, 10)                1290      \n",
            "=================================================================\n",
            "Total params: 1,199,882\n",
            "Trainable params: 1,199,882\n",
            "Non-trainable params: 0\n",
            "_________________________________________________________________\n"
          ],
          "name": "stdout"
        }
      ]
    },
    {
      "cell_type": "code",
      "metadata": {
        "id": "UD82H1-f03b0"
      },
      "source": [
        "model.compile(loss='categorical_crossentropy',\r\n",
        "              optimizer='adam',\r\n",
        "              metrics=['accuracy'])"
      ],
      "execution_count": 6,
      "outputs": []
    },
    {
      "cell_type": "code",
      "metadata": {
        "id": "_3osRNBD04eQ"
      },
      "source": [
        "# 모델 최적화 설정\r\n",
        "MODEL_DIR = './model/'\r\n",
        "if not os.path.exists(MODEL_DIR):\r\n",
        "    os.mkdir(MODEL_DIR)"
      ],
      "execution_count": 7,
      "outputs": []
    },
    {
      "cell_type": "code",
      "metadata": {
        "colab": {
          "base_uri": "https://localhost:8080/"
        },
        "id": "zI9BHg3X1JZ5",
        "outputId": "2d38fde0-8c30-44e1-e017-77ba880940c2"
      },
      "source": [
        "!ls -l"
      ],
      "execution_count": 8,
      "outputs": [
        {
          "output_type": "stream",
          "text": [
            "total 8\n",
            "drwxr-xr-x 2 root root 4096 Feb  5 08:11 model\n",
            "drwxr-xr-x 1 root root 4096 Feb  1 17:27 sample_data\n"
          ],
          "name": "stdout"
        }
      ]
    },
    {
      "cell_type": "code",
      "metadata": {
        "id": "5ZnapJ5W1KpJ"
      },
      "source": [
        "modelpath = MODEL_DIR + \"mnist-cnn-{epoch:02d}-{val_loss:.4f}.hdf5\"\r\n",
        "checkpointer = ModelCheckpoint(filepath=modelpath, monitor='val_loss', \r\n",
        "                               verbose=1, save_best_only=True)\r\n",
        "early_stopping_callback = EarlyStopping(monitor='val_loss', patience=10)"
      ],
      "execution_count": 9,
      "outputs": []
    },
    {
      "cell_type": "code",
      "metadata": {
        "colab": {
          "base_uri": "https://localhost:8080/"
        },
        "id": "3sInRe9j1T1Q",
        "outputId": "5b55c116-dd95-49fc-eba4-41f92aa4b0c3"
      },
      "source": [
        "# 모델의 실행\r\n",
        "history = model.fit(X_train, Y_train, validation_split=0.2, epochs=30,\r\n",
        "                    batch_size=200, #epochs=5, verbose=2, \r\n",
        "                    callbacks=[early_stopping_callback, checkpointer])"
      ],
      "execution_count": 10,
      "outputs": [
        {
          "output_type": "stream",
          "text": [
            "Epoch 1/30\n",
            "240/240 [==============================] - 9s 9ms/step - loss: 0.6063 - accuracy: 0.8090 - val_loss: 0.0723 - val_accuracy: 0.9790\n",
            "\n",
            "Epoch 00001: val_loss improved from inf to 0.07230, saving model to ./model/mnist-cnn-01-0.0723.hdf5\n",
            "Epoch 2/30\n",
            "240/240 [==============================] - 2s 8ms/step - loss: 0.1036 - accuracy: 0.9693 - val_loss: 0.0562 - val_accuracy: 0.9836\n",
            "\n",
            "Epoch 00002: val_loss improved from 0.07230 to 0.05618, saving model to ./model/mnist-cnn-02-0.0562.hdf5\n",
            "Epoch 3/30\n",
            "240/240 [==============================] - 2s 8ms/step - loss: 0.0661 - accuracy: 0.9804 - val_loss: 0.0433 - val_accuracy: 0.9872\n",
            "\n",
            "Epoch 00003: val_loss improved from 0.05618 to 0.04326, saving model to ./model/mnist-cnn-03-0.0433.hdf5\n",
            "Epoch 4/30\n",
            "240/240 [==============================] - 2s 8ms/step - loss: 0.0595 - accuracy: 0.9811 - val_loss: 0.0424 - val_accuracy: 0.9881\n",
            "\n",
            "Epoch 00004: val_loss improved from 0.04326 to 0.04237, saving model to ./model/mnist-cnn-04-0.0424.hdf5\n",
            "Epoch 5/30\n",
            "240/240 [==============================] - 2s 8ms/step - loss: 0.0461 - accuracy: 0.9851 - val_loss: 0.0399 - val_accuracy: 0.9894\n",
            "\n",
            "Epoch 00005: val_loss improved from 0.04237 to 0.03991, saving model to ./model/mnist-cnn-05-0.0399.hdf5\n",
            "Epoch 6/30\n",
            "240/240 [==============================] - 2s 8ms/step - loss: 0.0432 - accuracy: 0.9858 - val_loss: 0.0425 - val_accuracy: 0.9881\n",
            "\n",
            "Epoch 00006: val_loss did not improve from 0.03991\n",
            "Epoch 7/30\n",
            "240/240 [==============================] - 2s 8ms/step - loss: 0.0350 - accuracy: 0.9890 - val_loss: 0.0381 - val_accuracy: 0.9893\n",
            "\n",
            "Epoch 00007: val_loss improved from 0.03991 to 0.03815, saving model to ./model/mnist-cnn-07-0.0381.hdf5\n",
            "Epoch 8/30\n",
            "240/240 [==============================] - 2s 7ms/step - loss: 0.0324 - accuracy: 0.9895 - val_loss: 0.0383 - val_accuracy: 0.9898\n",
            "\n",
            "Epoch 00008: val_loss did not improve from 0.03815\n",
            "Epoch 9/30\n",
            "240/240 [==============================] - 2s 7ms/step - loss: 0.0289 - accuracy: 0.9902 - val_loss: 0.0372 - val_accuracy: 0.9904\n",
            "\n",
            "Epoch 00009: val_loss improved from 0.03815 to 0.03716, saving model to ./model/mnist-cnn-09-0.0372.hdf5\n",
            "Epoch 10/30\n",
            "240/240 [==============================] - 2s 7ms/step - loss: 0.0271 - accuracy: 0.9910 - val_loss: 0.0390 - val_accuracy: 0.9898\n",
            "\n",
            "Epoch 00010: val_loss did not improve from 0.03716\n",
            "Epoch 11/30\n",
            "240/240 [==============================] - 2s 8ms/step - loss: 0.0232 - accuracy: 0.9921 - val_loss: 0.0377 - val_accuracy: 0.9893\n",
            "\n",
            "Epoch 00011: val_loss did not improve from 0.03716\n",
            "Epoch 12/30\n",
            "240/240 [==============================] - 2s 7ms/step - loss: 0.0241 - accuracy: 0.9918 - val_loss: 0.0402 - val_accuracy: 0.9901\n",
            "\n",
            "Epoch 00012: val_loss did not improve from 0.03716\n",
            "Epoch 13/30\n",
            "240/240 [==============================] - 2s 7ms/step - loss: 0.0210 - accuracy: 0.9930 - val_loss: 0.0432 - val_accuracy: 0.9898\n",
            "\n",
            "Epoch 00013: val_loss did not improve from 0.03716\n",
            "Epoch 14/30\n",
            "240/240 [==============================] - 2s 7ms/step - loss: 0.0213 - accuracy: 0.9928 - val_loss: 0.0402 - val_accuracy: 0.9903\n",
            "\n",
            "Epoch 00014: val_loss did not improve from 0.03716\n",
            "Epoch 15/30\n",
            "240/240 [==============================] - 2s 7ms/step - loss: 0.0177 - accuracy: 0.9941 - val_loss: 0.0456 - val_accuracy: 0.9898\n",
            "\n",
            "Epoch 00015: val_loss did not improve from 0.03716\n",
            "Epoch 16/30\n",
            "240/240 [==============================] - 2s 7ms/step - loss: 0.0168 - accuracy: 0.9941 - val_loss: 0.0405 - val_accuracy: 0.9905\n",
            "\n",
            "Epoch 00016: val_loss did not improve from 0.03716\n",
            "Epoch 17/30\n",
            "240/240 [==============================] - 2s 7ms/step - loss: 0.0155 - accuracy: 0.9949 - val_loss: 0.0423 - val_accuracy: 0.9894\n",
            "\n",
            "Epoch 00017: val_loss did not improve from 0.03716\n",
            "Epoch 18/30\n",
            "240/240 [==============================] - 2s 7ms/step - loss: 0.0162 - accuracy: 0.9939 - val_loss: 0.0429 - val_accuracy: 0.9908\n",
            "\n",
            "Epoch 00018: val_loss did not improve from 0.03716\n",
            "Epoch 19/30\n",
            "240/240 [==============================] - 2s 7ms/step - loss: 0.0164 - accuracy: 0.9948 - val_loss: 0.0396 - val_accuracy: 0.9910\n",
            "\n",
            "Epoch 00019: val_loss did not improve from 0.03716\n"
          ],
          "name": "stdout"
        }
      ]
    },
    {
      "cell_type": "code",
      "metadata": {
        "colab": {
          "base_uri": "https://localhost:8080/"
        },
        "id": "jygtw6vp1YeT",
        "outputId": "979b4fd3-72a2-4bc0-e8ee-afa0d7244d3f"
      },
      "source": [
        "!ls model"
      ],
      "execution_count": 11,
      "outputs": [
        {
          "output_type": "stream",
          "text": [
            "mnist-cnn-01-0.0723.hdf5  mnist-cnn-04-0.0424.hdf5  mnist-cnn-09-0.0372.hdf5\n",
            "mnist-cnn-02-0.0562.hdf5  mnist-cnn-05-0.0399.hdf5\n",
            "mnist-cnn-03-0.0433.hdf5  mnist-cnn-07-0.0381.hdf5\n"
          ],
          "name": "stdout"
        }
      ]
    },
    {
      "cell_type": "code",
      "metadata": {
        "id": "qZDWizT7Avw1"
      },
      "source": [
        "from keras.models import load_model\r\n",
        "del model\r\n",
        "model = load_model('model/mnist-cnn-09-0.0372.hdf5')"
      ],
      "execution_count": 12,
      "outputs": []
    },
    {
      "cell_type": "code",
      "metadata": {
        "colab": {
          "base_uri": "https://localhost:8080/"
        },
        "id": "DXBdkIOWA76U",
        "outputId": "0dc4b7d7-bdda-4932-bb73-ee3c545b5ee5"
      },
      "source": [
        "# 테스트 정확도 출력 \r\n",
        "acc = model.evaluate(X_test, Y_test, verbose=0)[1]\r\n",
        "print(f\"Test Accuracy:{acc:.4f}\")"
      ],
      "execution_count": 13,
      "outputs": [
        {
          "output_type": "stream",
          "text": [
            "Test Accuracy:0.9913\n"
          ],
          "name": "stdout"
        }
      ]
    },
    {
      "cell_type": "code",
      "metadata": {
        "id": "mfihh7vVBZTM"
      },
      "source": [
        "# 검증셋의 오차\r\n",
        "y_vloss = history.history['val_loss']\r\n",
        "\r\n",
        "# 학습셋의 오차\r\n",
        "y_loss = history.history['loss']"
      ],
      "execution_count": 14,
      "outputs": []
    },
    {
      "cell_type": "code",
      "metadata": {
        "colab": {
          "base_uri": "https://localhost:8080/",
          "height": 388
        },
        "id": "AbvCfHfnCt71",
        "outputId": "d6422b22-93f9-418a-a1ce-b14a86251a30"
      },
      "source": [
        "# 그래프로 표현\r\n",
        "x_len = np.arange(1, len(y_loss)+1)\r\n",
        "plt.figure(figsize=(8,6))\r\n",
        "plt.plot(x_len, y_vloss, marker='.', c=\"red\", label='Validationset_loss')\r\n",
        "plt.plot(x_len, y_loss, marker='.', c=\"blue\", label='Trainset_loss')\r\n",
        "\r\n",
        "# 그래프에 그리드를 주고 레이블을 표시\r\n",
        "plt.legend(loc='upper right')\r\n",
        "#plt.axis([0, 20, 0, 0.35])\r\n",
        "plt.grid()\r\n",
        "plt.xlabel('epoch')\r\n",
        "plt.ylabel('loss')\r\n",
        "plt.show()"
      ],
      "execution_count": 15,
      "outputs": [
        {
          "output_type": "display_data",
          "data": {
            "image/png": "[encoded data removed]",
            "text/plain": [
              "<Figure size 576x432 with 1 Axes>"
            ]
          },
          "metadata": {
            "tags": [],
            "needs_background": "light"
          }
        }
      ]
    },
    {
      "cell_type": "markdown",
      "metadata": {
        "id": "AinVnay_QJqN"
      },
      "source": [
        "### GPU"
      ]
    },
    {
      "cell_type": "code",
      "metadata": {
        "colab": {
          "base_uri": "https://localhost:8080/"
        },
        "id": "_xDVfkvZQJK_",
        "outputId": "68b823ec-9825-4fab-8a14-e3b96abce1ec"
      },
      "source": [
        "from tensorflow.python.client import device_lib\r\n",
        "print(device_lib.list_local_devices())"
      ],
      "execution_count": 16,
      "outputs": [
        {
          "output_type": "stream",
          "text": [
            "[name: \"/device:CPU:0\"\n",
            "device_type: \"CPU\"\n",
            "memory_limit: 268435456\n",
            "locality {\n",
            "}\n",
            "incarnation: 16510916703172948110\n",
            ", name: \"/device:GPU:0\"\n",
            "device_type: \"GPU\"\n",
            "memory_limit: 15692777408\n",
            "locality {\n",
            "  bus_id: 1\n",
            "  links {\n",
            "  }\n",
            "}\n",
            "incarnation: 17993310006273365586\n",
            "physical_device_desc: \"device: 0, name: Tesla P100-PCIE-16GB, pci bus id: 0000:00:04.0, compute capability: 6.0\"\n",
            "]\n"
          ],
          "name": "stdout"
        }
      ]
    },
    {
      "cell_type": "code",
      "metadata": {
        "colab": {
          "base_uri": "https://localhost:8080/"
        },
        "id": "0MW1gmrASRXu",
        "outputId": "3da7589f-1c7a-487c-b509-de818c0e7660"
      },
      "source": [
        "!nvidia-smi"
      ],
      "execution_count": 20,
      "outputs": [
        {
          "output_type": "stream",
          "text": [
            "Fri Feb  5 08:22:40 2021       \n",
            "+-----------------------------------------------------------------------------+\n",
            "| NVIDIA-SMI 460.39       Driver Version: 418.67       CUDA Version: 10.1     |\n",
            "|-------------------------------+----------------------+----------------------+\n",
            "| GPU  Name        Persistence-M| Bus-Id        Disp.A | Volatile Uncorr. ECC |\n",
            "| Fan  Temp  Perf  Pwr:Usage/Cap|         Memory-Usage | GPU-Util  Compute M. |\n",
            "|                               |                      |               MIG M. |\n",
            "|===============================+======================+======================|\n",
            "|   0  Tesla P100-PCIE...  Off  | 00000000:00:04.0 Off |                    0 |\n",
            "| N/A   37C    P0    34W / 250W |   1069MiB / 16280MiB |      0%      Default |\n",
            "|                               |                      |                 ERR! |\n",
            "+-------------------------------+----------------------+----------------------+\n",
            "                                                                               \n",
            "+-----------------------------------------------------------------------------+\n",
            "| Processes:                                                                  |\n",
            "|  GPU   GI   CI        PID   Type   Process name                  GPU Memory |\n",
            "|        ID   ID                                                   Usage      |\n",
            "|=============================================================================|\n",
            "|  No running processes found                                                 |\n",
            "+-----------------------------------------------------------------------------+\n"
          ],
          "name": "stdout"
        }
      ]
    }
  ]
}